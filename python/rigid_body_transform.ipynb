{
 "cells": [
  {
   "cell_type": "code",
   "execution_count": 4,
   "metadata": {},
   "outputs": [],
   "source": [
    "import numpy as np\n",
    "from sympy import *\n",
    "init_printing()"
   ]
  },
  {
   "cell_type": "code",
   "execution_count": 20,
   "metadata": {},
   "outputs": [],
   "source": [
    "vertices = np.array(symbols('v_x v_y'))\n",
    "translation = np.array(symbols('w_x w_y'))\n",
    "theta = symbols('\\\\theta')\n",
    "w = [translation[0], translation[1], theta]"
   ]
  },
  {
   "cell_type": "code",
   "execution_count": 15,
   "metadata": {},
   "outputs": [],
   "source": [
    "R = np.array([[cos(theta), -sin(theta)], [sin(theta), cos(theta)]])"
   ]
  },
  {
   "cell_type": "code",
   "execution_count": 16,
   "metadata": {},
   "outputs": [
    {
     "data": {
      "image/png": "[encoded data removed]",
      "text/latex": [
       "$$\\left ( v_{x} \\cos{\\left (\\theta \\right )} - v_{y} \\sin{\\left (\\theta \\right )} + w_{x}, \\quad v_{x} \\sin{\\left (\\theta \\right )} + v_{y} \\cos{\\left (\\theta \\right )} + w_{y}\\right )$$"
      ],
      "text/plain": [
       "(vₓ⋅cos(\\theta) - v_y⋅sin(\\theta) + wₓ, vₓ⋅sin(\\theta) + v_y⋅cos(\\theta) + w_y\n",
       ")"
      ]
     },
     "execution_count": 16,
     "metadata": {},
     "output_type": "execute_result"
    }
   ],
   "source": [
    "t = R.dot(vertices) + translation\n",
    "t[0], t[1]"
   ]
  },
  {
   "cell_type": "code",
   "execution_count": 24,
   "metadata": {},
   "outputs": [],
   "source": [
    "def grad(x, w):\n",
    "    return [diff(x, wi) for wi in w]"
   ]
  },
  {
   "cell_type": "code",
   "execution_count": 28,
   "metadata": {},
   "outputs": [
    {
     "data": {
      "image/png": "[encoded data removed]",
      "text/latex": [
       "$$\\left [ \\left [ 1, \\quad 0, \\quad - v_{x} \\sin{\\left (\\theta \\right )} - v_{y} \\cos{\\left (\\theta \\right )}\\right ], \\quad \\left [ 0, \\quad 1, \\quad v_{x} \\cos{\\left (\\theta \\right )} - v_{y} \\sin{\\left (\\theta \\right )}\\right ]\\right ]$$"
      ],
      "text/plain": [
       "[[1, 0, -vₓ⋅sin(\\theta) - v_y⋅cos(\\theta)], [0, 1, vₓ⋅cos(\\theta) - v_y⋅sin(\\t\n",
       "heta)]]"
      ]
     },
     "execution_count": 28,
     "metadata": {},
     "output_type": "execute_result"
    }
   ],
   "source": [
    "grad_t =[grad(ti, w) for ti in t]\n",
    "grad_t "
   ]
  },
  {
   "cell_type": "code",
   "execution_count": 33,
   "metadata": {},
   "outputs": [],
   "source": [
    "def hess(X, w):\n",
    "    return [[diff(x, wi) for wi in w] for x in X]"
   ]
  },
  {
   "cell_type": "code",
   "execution_count": 34,
   "metadata": {},
   "outputs": [
    {
     "data": {
      "image/png": "[encoded data removed]",
      "text/latex": [
       "$$\\left [ \\left [ \\left [ 0, \\quad 0, \\quad 0\\right ], \\quad \\left [ 0, \\quad 0, \\quad 0\\right ], \\quad \\left [ 0, \\quad 0, \\quad - v_{x} \\cos{\\left (\\theta \\right )} + v_{y} \\sin{\\left (\\theta \\right )}\\right ]\\right ], \\quad \\left [ \\left [ 0, \\quad 0, \\quad 0\\right ], \\quad \\left [ 0, \\quad 0, \\quad 0\\right ], \\quad \\left [ 0, \\quad 0, \\quad - v_{x} \\sin{\\left (\\theta \\right )} - v_{y} \\cos{\\left (\\theta \\right )}\\right ]\\right ]\\right ]$$"
      ],
      "text/plain": [
       "[[[0, 0, 0], [0, 0, 0], [0, 0, -vₓ⋅cos(\\theta) + v_y⋅sin(\\theta)]], [[0, 0, 0]\n",
       ", [0, 0, 0], [0, 0, -vₓ⋅sin(\\theta) - v_y⋅cos(\\theta)]]]"
      ]
     },
     "execution_count": 34,
     "metadata": {},
     "output_type": "execute_result"
    }
   ],
   "source": [
    "hessian_t = [hess(gti, w) for gti in grad_t]\n",
    "hessian_t"
   ]
  },
  {
   "cell_type": "code",
   "execution_count": null,
   "metadata": {},
   "outputs": [],
   "source": []
  }
 ],
 "metadata": {
  "kernelspec": {
   "display_name": "Python 3",
   "language": "python",
   "name": "python3"
  },
  "language_info": {
   "codemirror_mode": {
    "name": "ipython",
    "version": 3
   },
   "file_extension": ".py",
   "mimetype": "text/x-python",
   "name": "python",
   "nbconvert_exporter": "python",
   "pygments_lexer": "ipython3",
   "version": "3.6.8"
  }
 },
 "nbformat": 4,
 "nbformat_minor": 2
}
